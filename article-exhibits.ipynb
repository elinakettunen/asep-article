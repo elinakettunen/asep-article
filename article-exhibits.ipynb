{
 "cells": [
  {
   "cell_type": "code",
   "execution_count": null,
   "metadata": {},
   "outputs": [],
   "source": [
    "# clean output directory every time\n",
    "import shutil\n",
    "try: shutil.rmtree('out')\n",
    "except FileNotFoundError: pass\n",
    "\n",
    "from pathlib import Path\n",
    "Path('out').mkdir(parents=True, exist_ok=True)"
   ]
  },
  {
   "cell_type": "code",
   "execution_count": null,
   "metadata": {},
   "outputs": [],
   "source": [
    "import matplotlib.pyplot as plt\n",
    "import seaborn as sns\n",
    "import pandas as pd\n",
    "import numpy as np\n",
    "from scipy.stats import pearsonr\n",
    "from statsmodels.stats.multitest import multipletests\n",
    "import statsmodels.api as sm"
   ]
  },
  {
   "cell_type": "code",
   "execution_count": null,
   "metadata": {},
   "outputs": [],
   "source": [
    "# data files are exactly as received from MIRA Helsinki Study. This code does not write to these files.\n",
    "data_master = 'data/mira/MIRA Master file 180527.sav'\n",
    "data_lab = 'data/mira/HUSLAB Data final_WithMixedVegans.txt'\n",
    "data_intakes = 'data/mira/muuttujat_analyysiin.txt'\n",
    "data_thl = 'data/mira/growth-curves.tsv'\n",
    "data_questionnaire = 'data/mira/data huoltajan tausta 171106.sav'\n",
    "data_food_record = 'data/mira/radata.txt'"
   ]
  },
  {
   "cell_type": "code",
   "execution_count": null,
   "metadata": {},
   "outputs": [],
   "source": [
    "# global settings for graph output\n",
    "scale=10\n",
    "sns.set_theme(style='white',font_scale=2)"
   ]
  },
  {
   "cell_type": "code",
   "execution_count": null,
   "metadata": {},
   "outputs": [],
   "source": [
    "#declare common column names as variables\n",
    "ldl = 'fP-Kol-LDL (mmol/l)'\n",
    "tc = 'fP-Kol (mmol/l)'\n",
    "serum_lipids = [\n",
    "    tc,\n",
    "    ldl, \n",
    "    'fP-Kol-HDL (mmol/l)', \n",
    "    'fP-Trigly (mmol/l)'\n",
    "]"
   ]
  },
  {
   "cell_type": "code",
   "execution_count": null,
   "metadata": {},
   "outputs": [],
   "source": [
    "# read in mira study data\n",
    "lab_results = pd.read_csv(data_lab, sep='\\t', decimal=\",\")\n",
    "intakes = pd.read_csv(data_intakes, sep='\\t')\n",
    "\n",
    "subjects_all = intakes.merge(lab_results, how='left', on='ID')\n",
    "\n",
    "#df = lab_results.merge(intakes, on='ID')\n",
    "# Only select subjects for whom we have an LDL lab result \n",
    "#subjects = df[df[ldl].notna()]\n",
    "#subjects = df"
   ]
  },
  {
   "cell_type": "code",
   "execution_count": null,
   "metadata": {},
   "outputs": [],
   "source": [
    "# classify diets\n",
    "g6_map = {\n",
    "    'Pesco-vegetarian': 'Vegetarian',\n",
    "    'Vegan': 'Vegan',\n",
    "    'Control': 'Omnivore',\n",
    "    'Control (vegan in daycare)': 'Omnivore',\n",
    "    'Vegetarian': 'Vegetarian',\n",
    "}\n",
    "diet_class = 'diet classification'\n",
    "diet_classes = ['Vegan','Vegetarian','Omnivore']\n",
    "\n",
    "s = subjects_all.Group4.map(g6_map)\n",
    "s = s.fillna('Omnivore')\n",
    "\n",
    "subjects_all.insert(6,diet_class,s)"
   ]
  },
  {
   "cell_type": "code",
   "execution_count": null,
   "metadata": {},
   "outputs": [],
   "source": [
    "subjects_all[['ID','Group2','Group3','Group4',diet_class]].to_csv('out/subject_grouping.csv')"
   ]
  },
  {
   "cell_type": "code",
   "execution_count": null,
   "metadata": {},
   "outputs": [],
   "source": [
    "# Use Finnish THL curves for child BMI SDS\n",
    "\n",
    "curves = pd.read_csv(data_thl,sep='\\t',decimal=',')\n",
    "curves.columns = [c.lower() for c in curves.columns]\n",
    "\n",
    "# no curve for children under two, fill in with a linear extrapolation\n",
    "\n",
    "def fill_start_with_linear_extrapolation(s):\n",
    "    i = s.first_valid_index()\n",
    "    x1 = s.loc[i]\n",
    "    x2 = s.loc[2*i]\n",
    "    x0 = x1 - (x2-x1)\n",
    "    return pd.Series(np.linspace(x0,x1,i)).append(s[i:])\n",
    "\n",
    "\n",
    "for c in 'bmi_mean_m','bmi_sd_m','bmi_nu_m','bmi_mean_f','bmi_sd_f','bmi_nu_f':\n",
    "    s = curves[c]\n",
    "    s2 = fill_start_with_linear_extrapolation(s)\n",
    "    curves.insert(\n",
    "        curves.columns.get_loc(c)+1,\n",
    "        c+'_filled',\n",
    "        s2\n",
    "    )\n",
    "\n",
    "# BMISDS = ((BMIlaskettu / muBMI) ^ nuBMI – 1) / (nuBMI × sigmaBMI)\n",
    "def translate_sex(s):\n",
    "    if s in ('M','m'): return 'm'\n",
    "    if s in ('N','n','F','f'): return 'f'\n",
    "    return None\n",
    "\n",
    "def bmi_sds(weight,height,age,sex):\n",
    "    # NaN check\n",
    "    if age != age: return None\n",
    "    \n",
    "    age = round(age,2)\n",
    "    sex = translate_sex(sex)\n",
    "\n",
    "    bmi = weight/height**2\n",
    "\n",
    "    row = curves[curves.age==age].iloc[0]\n",
    "    mu_bmi = row['bmi_mean_'+sex+'_filled']\n",
    "    nu_bmi = row['bmi_nu_'+sex+'_filled']\n",
    "    sigma_bmi = row['bmi_sd_'+sex+'_filled']\n",
    "\n",
    "    bmi_sds = ((bmi/mu_bmi)**nu_bmi - 1) / (nu_bmi * sigma_bmi)\n",
    "\n",
    "    return bmi_sds\n",
    "\n",
    "bmi_sds = subjects_all.apply(\n",
    "    lambda row: bmi_sds(\n",
    "        row.Weight,\n",
    "        row.Height/100,\n",
    "        row.AntAge, #row.Bage,\n",
    "        row.Sex\n",
    "    ),\n",
    "    axis=1\n",
    ")\n",
    "subjects_all.insert(12,'bmi_sds',bmi_sds)"
   ]
  },
  {
   "cell_type": "code",
   "execution_count": null,
   "metadata": {},
   "outputs": [],
   "source": [
    "# classify BMI by SDS\n",
    "\n",
    "def is_female(s):\n",
    "    return s in ('N','n','F','f')\n",
    "\n",
    "def is_male(s):\n",
    "    return s in ('M','m')\n",
    "\n",
    "def classify_bmi_sds(bmi_sds,sex):\n",
    "    if is_female(sex):\n",
    "        if bmi_sds < -2.2187: return 'Significantly underweight'\n",
    "        if bmi_sds < -1.6482: return 'Underweight'\n",
    "        if bmi_sds > 2.7600: return 'Severely Obese'\n",
    "        if bmi_sds > 2.1065: return 'Obese'\n",
    "        if bmi_sds > 1.1629: return 'Overweight'\n",
    "        return 'Normal'\n",
    "    if is_male(sex):\n",
    "        if bmi_sds < -2.3456: return 'Significantly underweight'\n",
    "        if bmi_sds < -1.8344: return 'Underweight'\n",
    "        if bmi_sds > 2.3600: return 'Severely Obese'\n",
    "        if bmi_sds > 1.7016: return 'Obese'\n",
    "        if bmi_sds > 0.7784: return 'Overweight'\n",
    "        return 'Normal'\n",
    "    return None\n",
    "\n",
    "bmi_class = subjects_all.apply(\n",
    "    lambda row: classify_bmi_sds(\n",
    "        row.bmi_sds,\n",
    "        row.Sex\n",
    "    ),\n",
    "    axis=1\n",
    ")\n",
    "\n",
    "subjects_all.insert(13,'bmi_class',bmi_class)"
   ]
  },
  {
   "cell_type": "code",
   "execution_count": null,
   "metadata": {},
   "outputs": [],
   "source": [
    "subjects_all['ENER_kcal_per_d'] = subjects_all.ENERJ_per_d / 4.184"
   ]
  },
  {
   "cell_type": "code",
   "execution_count": null,
   "metadata": {},
   "outputs": [],
   "source": [
    "# animal proportion per food item collected for thesis, method and sources on page 39 of thesis\n",
    "data_food_animal_proportion = 'data/food-animal-proportion.csv'"
   ]
  },
  {
   "cell_type": "code",
   "execution_count": null,
   "metadata": {},
   "outputs": [],
   "source": [
    "food_records = pd.read_csv(\n",
    "    data_food_record, \n",
    "    sep='\\t', \n",
    "    encoding='iso-8859-1')\n",
    "\n",
    "food_animal_percent = pd.read_csv(\n",
    "    data_food_animal_proportion, \n",
    "    index_col='code'\n",
    ").drop(columns=['link'])\n",
    "\n",
    "food_records = food_records.merge(\n",
    "    food_animal_percent, \n",
    "    left_on='Code', \n",
    "    right_on='code', \n",
    "    how='left'\n",
    ")\n",
    "food_records['timestamp'] = pd.to_datetime(\n",
    "    food_records.DaDate + ' ' + food_records.MaTime,\n",
    "    format='%d.%m.%Y %H:%M:%S'\n",
    ")"
   ]
  },
  {
   "cell_type": "code",
   "execution_count": null,
   "metadata": {},
   "outputs": [],
   "source": [
    "#calculate age when food records taken\n",
    "master = pd.read_spss(data_master)\n",
    "\n",
    "df = pd.DataFrame()\n",
    "df['dob'] = pd.to_datetime(\n",
    "    master.set_index('ID').syntymaaika\n",
    ")\n",
    "df['date_of_first_food_record'] = pd.to_datetime(\n",
    "    food_records.groupby('ID').DaDate.min()\n",
    ")\n",
    "df['age_at_first_food_record'] = df.date_of_first_food_record - df.dob\n",
    "\n",
    "subjects_all = subjects_all.merge(\n",
    "    df.drop(columns=['dob']).reset_index()\n",
    ")"
   ]
  },
  {
   "cell_type": "code",
   "execution_count": null,
   "metadata": {},
   "outputs": [],
   "source": [
    "#sanity checking food record lenths\n",
    "df = food_records.groupby('ID').agg({'timestamp': ['min', 'max']})\n",
    "df.columns = ['ts_min','ts_max']\n",
    "df = df.merge(\n",
    "    food_records[['ID','DaDate']].groupby('ID').nunique(),\n",
    "    on='ID'\n",
    ")\n",
    "df.rename(columns = {'DaDate':'record_distinct_dates'}, inplace = True)\n",
    "df.record_distinct_dates.hist(range=(0,6),bins=6)"
   ]
  },
  {
   "cell_type": "code",
   "execution_count": null,
   "metadata": {},
   "outputs": [],
   "source": [
    "# sanity check which food items with nonzero animal content appear for vegans\n",
    "\n",
    "df = food_records.merge(\n",
    "    subjects_all[['ID','Group4']], \n",
    "    on='ID', \n",
    "    how='left')\n",
    "df = df[\n",
    "    (df.animal_proportion > 0) \n",
    "    & (df.Group4 == 'Vegan')\n",
    "]\n",
    "df.groupby(['name','MaName']).count()['Group4']"
   ]
  },
  {
   "cell_type": "code",
   "execution_count": null,
   "metadata": {},
   "outputs": [],
   "source": [
    "# calculate ASE proportion\n",
    "r_animal = 'r_animal_source_energy'\n",
    "r_animal_label = 'Animal source energy proportion'\n",
    "\n",
    "e = food_records[['ID','ENERJ','animal_proportion']]\n",
    "e = e.assign(ENERJ_animal=(e.ENERJ * e.animal_proportion)).drop(columns=['animal_proportion'])\n",
    "\n",
    "#energy per subject\n",
    "eps = e.groupby(['ID']).sum()\n",
    "eps = eps.assign(r_animal_source_energy=(eps.ENERJ_animal / eps.ENERJ))\n",
    "\n",
    "subjects_all = subjects_all.merge(eps, on='ID')"
   ]
  },
  {
   "cell_type": "markdown",
   "metadata": {},
   "source": [
    "# Subject selection"
   ]
  },
  {
   "cell_type": "code",
   "execution_count": null,
   "metadata": {},
   "outputs": [],
   "source": [
    "# data has been manually verified\n",
    "# TODO: implement subject selection in code here\n",
    "fr_too_short = (105, 405, 801, 802, 119)\n",
    "fr_no_weekend = (404,)\n",
    "fr_invalid = fr_too_short + fr_no_weekend\n",
    "\n",
    "subjects_fr = subjects_all[~subjects_all.ID.isin(fr_invalid)]\n",
    "subjects_ldl = subjects_fr[subjects_fr[ldl].notna()]"
   ]
  },
  {
   "cell_type": "markdown",
   "metadata": {},
   "source": [
    "## Figure 1\n",
    "\n",
    "Distribution of the ASE proportions by the diet classification (grouping based on the food records and background questionnaires). Participants' dietary classification is indicated with color coding, with blue for vegan, orange for vegetarian and green for omnivore group. The vegetarian group included lactovegetarians, lacto-ovo-vegetarians and pescovegetarians."
   ]
  },
  {
   "cell_type": "code",
   "execution_count": null,
   "metadata": {},
   "outputs": [],
   "source": [
    "sns.set_context(\"paper\")\n",
    "\n",
    "tricolor_palette=['#55a868','#dd8452','#4c72b0']\n",
    "\n",
    "plt.close()\n",
    "fg = sns.displot(\n",
    "    subjects_fr,\n",
    "    x=r_animal,\n",
    "    binwidth=0.05,\n",
    "    hue=diet_class,\n",
    "    hue_order=diet_classes,\n",
    "    multiple='stack',\n",
    "    height=scale,\n",
    "    palette=tricolor_palette\n",
    ")\n",
    "fg.axes[0,0].set_xlabel(r_animal_label)\n",
    "fg.axes[0,0].set_ylabel('Number of participants')\n",
    "\n",
    "plt.savefig('out/Fig1.svg')\n",
    "plt.savefig('out/Fig1.png')"
   ]
  },
  {
   "cell_type": "markdown",
   "metadata": {},
   "source": [
    "# Table 1\n",
    "Describing data with median (min-max)."
   ]
  },
  {
   "cell_type": "code",
   "execution_count": null,
   "metadata": {},
   "outputs": [],
   "source": [
    "intakes = [\n",
    "    'ENERJ_per_d',\n",
    "    'ENER_kcal_per_d',\n",
    "    'FAT_e_pros',\n",
    "    'FASAT_e_pros',\n",
    "    'FAMS_e_pros',\n",
    "    'FAPU_e_pros',\n",
    "    'CHOL_per_MJ',\n",
    "    'CHOL_per_d',\n",
    "    'PROT_e_pros',\n",
    "    'CHO_e_pros',\n",
    "    'SUCS_e_pros',\n",
    "    'FIBC_per_MJ',\n",
    "    'FIBC_per_d',\n",
    "    'SALT_per_MJ',\n",
    "    'SALT_per_d',\n",
    "    'FOL_per_d'\n",
    "]\n",
    "biomarkers = [\n",
    "    'fP-Kol (mmol/l)',\n",
    "    'fP-Kol-LDL (mmol/l)',\n",
    "    'fP-Kol-HDL (mmol/l)',\n",
    "    'fP-Trigly (mmol/l)',\n",
    "    'fE-Folaat (nmol/l)'    \n",
    "]"
   ]
  },
  {
   "cell_type": "code",
   "execution_count": null,
   "metadata": {},
   "outputs": [],
   "source": [
    "def summarize(df):\n",
    "    print(len(df.index))\n",
    "    display(df.sukupuoli.value_counts().to_frame())\n",
    "    display(df.bmi_class.value_counts().to_frame())\n",
    "    display(\n",
    "        df[['age_at_first_food_record','bmi_sds']+intakes+biomarkers].describe().transpose()[['50%','min','max']]\n",
    "    )"
   ]
  },
  {
   "cell_type": "code",
   "execution_count": null,
   "metadata": {},
   "outputs": [],
   "source": [
    "summarize(subjects_fr)"
   ]
  },
  {
   "cell_type": "code",
   "execution_count": null,
   "metadata": {},
   "outputs": [],
   "source": [
    "summarize(subjects_ldl)"
   ]
  },
  {
   "cell_type": "markdown",
   "metadata": {},
   "source": [
    "# Table 2"
   ]
  },
  {
   "cell_type": "code",
   "execution_count": null,
   "metadata": {},
   "outputs": [],
   "source": [
    "def correlation_values(subjects, xs,ys):\n",
    "    table = []\n",
    "    for x in xs:\n",
    "        for y in ys:\n",
    "            df = subjects[[x,y]].dropna()\n",
    "            pr, pp = pearsonr(df[x],df[y])\n",
    "            table.append([x,y,pr,pp])\n",
    "\n",
    "    df = pd.DataFrame(table,columns=['x','y','pearson_r','pearson_p'])\n",
    "    df['fdr_bh_0_05'] = multipletests(df['pearson_p'], alpha=0.05, method='fdr_bh')[0]\n",
    "    df = df.sort_values(by='pearson_p')\n",
    "    df = df.round(3)\n",
    "    return df"
   ]
  },
  {
   "cell_type": "code",
   "execution_count": null,
   "metadata": {},
   "outputs": [],
   "source": [
    "df = correlation_values(\n",
    "    subjects_ldl,\n",
    "    [r_animal],\n",
    "    intakes\n",
    ")\n",
    "df.to_csv('out/table2-correlations-ASEP-intakes.csv')\n",
    "df"
   ]
  },
  {
   "cell_type": "markdown",
   "metadata": {},
   "source": [
    "# Figure 2"
   ]
  },
  {
   "cell_type": "code",
   "execution_count": null,
   "metadata": {},
   "outputs": [],
   "source": [
    "from string import ascii_lowercase\n",
    "\n",
    "markers=['o','s','^']\n",
    "\n",
    "def regplot_r_animal(df,ax,y,y_label,set_xlabel=True):\n",
    "    ax.set_xlim(-0.01, df.r_animal_source_energy.max()+0.01)\n",
    "    sns.regplot(ax=ax, x=r_animal, y=y, scatter=False, data=df)\n",
    "    sns.scatterplot(\n",
    "        ax=ax, \n",
    "        x=r_animal, \n",
    "        y=y, \n",
    "        hue=diet_class,\n",
    "        hue_order=diet_classes,\n",
    "        style=diet_class,\n",
    "        markers=markers,\n",
    "        data=df, \n",
    "        s=30*scale,\n",
    "        palette=tricolor_palette,\n",
    "        legend=False\n",
    "    )\n",
    "    if set_xlabel:\n",
    "        ax.set_xlabel(r_animal_label)\n",
    "    else:\n",
    "        ax.set_xlabel(None)\n",
    "    ax.set_ylabel(y_label)\n",
    "\n",
    "\n",
    "from matplotlib.lines import Line2D\n",
    "def splats(n):\n",
    "    return [\n",
    "        Line2D(\n",
    "            [0], \n",
    "            [0], \n",
    "            marker=markers[i],\n",
    "            color='w',\n",
    "            markerfacecolor=tricolor_palette[i],\n",
    "            markersize=15\n",
    "        )\n",
    "        for i in range(0,n)\n",
    "    ]\n",
    "\n",
    "\n",
    "def fig_of_regplots(df,ys,cols=2):\n",
    "\n",
    "    plt.close()\n",
    "    sns.set_theme(style='white',font_scale=2)\n",
    "    \n",
    "    rows = int(len(ys)/cols)+(len(ys)%cols > 0)\n",
    "    h = rows*scale\n",
    "    if rows > 1: h+=2\n",
    "    w = cols*scale+2\n",
    "    \n",
    "\n",
    "\n",
    "    fig, axs = plt.subplots(rows,cols,figsize=(w,h))\n",
    "        \n",
    "    if rows > 1:\n",
    "        axs_flat = [ax for row in axs for ax in row]\n",
    "    else:\n",
    "        axs_flat = axs\n",
    "\n",
    "    l = list(zip(ys.keys(),ys.values(),axs_flat))\n",
    "    i = 0\n",
    "    for t in l:\n",
    "        ax = t[2]\n",
    "        y = t[0]\n",
    "        regplot_r_animal(df,ax,y,t[1],set_xlabel=False)\n",
    "        i+=1\n",
    "\n",
    "    for ax in axs_flat[len(ys):]:\n",
    "        fig.delaxes(ax)\n",
    "        \n",
    "    from matplotlib.lines import Line2D\n",
    "    \n",
    "    plt.figlegend(splats(3),diet_classes,loc='right')\n",
    "        \n",
    "    return fig, axs"
   ]
  },
  {
   "cell_type": "code",
   "execution_count": null,
   "metadata": {},
   "outputs": [],
   "source": [
    "sns.set_context(\"paper\")\n",
    "\n",
    "ys = {\n",
    "    'PROT_e_pros': 'Protein (E%)',\n",
    "    'FIBC_per_MJ': 'Fiber (g/MJ)',\n",
    "    'FOL_per_d': 'Folate (µg/d)',\n",
    "    'FASAT_e_pros': 'Saturated Fat (E%)',\n",
    "    'FAPU_e_pros': 'Polyunsaturated Fat (E%)',\n",
    "    'CHOL_per_MJ': 'Cholesterol (mg/MJ)',\n",
    "}\n",
    "\n",
    "fig, axs = fig_of_regplots(subjects_ldl,ys,cols=3)\n",
    "\n",
    "plt.savefig('out/Fig2.A.svg')\n",
    "plt.savefig('out/Fig2.A.png')\n",
    "\n",
    "plt.show()"
   ]
  },
  {
   "cell_type": "code",
   "execution_count": null,
   "metadata": {},
   "outputs": [],
   "source": [
    "sns.set_context(\"paper\")\n",
    "\n",
    "ys = {\n",
    "    'fP-Kol-LDL (mmol/l)': 'LDL cholesterol (mmol/l)',\n",
    "    'fE-Folaat (nmol/l)': 'Erythrocyte folate (nmol/l)'  \n",
    "}\n",
    "\n",
    "\n",
    "fig, axs = fig_of_regplots(subjects_ldl,ys,cols=3)\n",
    "\n",
    "\n",
    "plt.savefig('out/Fig2.B.svg')\n",
    "plt.savefig('out/Fig2.B.png')\n",
    "\n",
    "plt.show()"
   ]
  },
  {
   "cell_type": "markdown",
   "metadata": {},
   "source": [
    "# Exploration"
   ]
  },
  {
   "cell_type": "code",
   "execution_count": null,
   "metadata": {},
   "outputs": [],
   "source": [
    "#median ASEP for non Vegans\n",
    "subjects_fr[subjects_fr['diet classification'].isin(['Vegetarian','Omnivore'])].r_animal_source_energy.median()"
   ]
  },
  {
   "cell_type": "code",
   "execution_count": null,
   "metadata": {},
   "outputs": [],
   "source": [
    "sns.set_context(\"paper\")\n",
    "\n",
    "ys = {\n",
    "    'B-Hb (g/l)': 'Hemoglobin (g/l)',\n",
    "    'S-Ferritin': 'Serum ferritin ',\n",
    "}\n",
    "df = subjects_fr\n",
    "for k in ys.keys():\n",
    "    df = df[df[k].notna()]\n",
    "\n",
    "fig, axs = fig_of_regplots(df,ys,cols=2)\n",
    "\n",
    "plt.show()"
   ]
  },
  {
   "cell_type": "code",
   "execution_count": null,
   "metadata": {},
   "outputs": [],
   "source": [
    "correlation_values(\n",
    "    subjects_fr,\n",
    "    [r_animal],\n",
    "    ['B-Hb (g/l)','S-Ferritin']\n",
    ")"
   ]
  },
  {
   "cell_type": "code",
   "execution_count": null,
   "metadata": {},
   "outputs": [],
   "source": []
  }
 ],
 "metadata": {
  "kernelspec": {
   "display_name": "Python 3 (ipykernel)",
   "language": "python",
   "name": "python3"
  },
  "language_info": {
   "codemirror_mode": {
    "name": "ipython",
    "version": 3
   },
   "file_extension": ".py",
   "mimetype": "text/x-python",
   "name": "python",
   "nbconvert_exporter": "python",
   "pygments_lexer": "ipython3",
   "version": "3.9.5"
  }
 },
 "nbformat": 4,
 "nbformat_minor": 4
}
